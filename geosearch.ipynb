{
  "cells": [
    {
      "cell_type": "markdown",
      "metadata": {
        "id": "view-in-github",
        "colab_type": "text"
      },
      "source": [
        "<a href=\"https://colab.research.google.com/github/HarmanHans/Twitter-Crawler/blob/main/geosearch.ipynb\" target=\"_parent\"><img src=\"https://colab.research.google.com/assets/colab-badge.svg\" alt=\"Open In Colab\"/></a>"
      ]
    },
    {
      "cell_type": "code",
      "execution_count": null,
      "metadata": {
        "id": "EtnaSlH-wplB"
      },
      "outputs": [],
      "source": [
        "# created on Dec 24, 2020\n",
        "# modified on April 12, 2022\n",
        "# @author:          Bo Zhao\n",
        "# @email:           zhaobo@uw.edu\n",
        "# @website:         https://hgis.uw.edu\n",
        "# @organization:    Department of Geography, University of Washington, Seattle\n",
        "# @description:     Search geo-tagged tweets within the U.S. This script is modified from https://github.com/shawn-terryah/Twitter_Geolocation"
      ]
    },
    {
      "cell_type": "code",
      "execution_count": null,
      "metadata": {
        "id": "f-bMdKMawxnQ",
        "colab": {
          "base_uri": "https://localhost:8080/"
        },
        "outputId": "36a3c534-8ddb-4f89-ea74-75bd0a097ae2"
      },
      "outputs": [
        {
          "output_type": "stream",
          "name": "stdout",
          "text": [
            "Drive already mounted at /gdrive; to attempt to forcibly remount, call drive.mount(\"/gdrive\", force_remount=True).\n"
          ]
        }
      ],
      "source": [
        "import tweepy, json, time\n",
        "import pandas as pd\n",
        "from google.colab import files\n",
        "# Create data on to Google Drive\n",
        "from google.colab import drive\n",
        "# Mount your Drive to the Colab VM.\n",
        "drive.mount('/gdrive', force_remount = True)"
      ]
    },
    {
      "cell_type": "code",
      "execution_count": null,
      "metadata": {
        "id": "dEyPts-ZwplE"
      },
      "outputs": [],
      "source": [
        "class StreamListener(tweepy.StreamListener):\n",
        "    \"\"\"tweepy.StreamListener is a class provided by tweepy used to access\n",
        "    the Twitter Streaming API to collect tweets in real-time.\n",
        "    \"\"\"\n",
        "\n",
        "    def __init__(self, time_limit=60, file=\"\"):\n",
        "        \"\"\"class initialization\"\"\"\n",
        "        self.start_time = time.time()\n",
        "        self.limit = time_limit\n",
        "        self.result = []\n",
        "        self.f = file\n",
        "        super(StreamListener, self).__init__()\n",
        "\n",
        "    def on_data(self, data):\n",
        "        \"\"\"This is called when data are streamed in.\"\"\"\n",
        "        if (time.time() - self.start_time) < self.limit:\n",
        "            datajson = json.loads(data)\n",
        "            # print(datajson, \"\\n\")\n",
        "            if 'id' not in datajson.keys():\n",
        "                time.sleep(10)\n",
        "            else:\n",
        "                id = datajson['id']\n",
        "                username = datajson['user']['screen_name']\n",
        "                created_at = datajson['created_at']\n",
        "                text = datajson['text'].strip().replace(\"\\n\", \"\")\n",
        "\n",
        "                # process the geo-tags\n",
        "                if datajson['coordinates'] == None:\n",
        "                    try:\n",
        "                        bbox = datajson['place']['bounding_box']['coordinates'][0]\n",
        "                        lng = (bbox[0][0] + bbox[2][0]) / 2.0\n",
        "                        lat = (bbox[0][1] + bbox[1][1]) / 2.0\n",
        "                    except:\n",
        "                        lat = 0\n",
        "                        lng = 0\n",
        "                else:\n",
        "                    lng = datajson['coordinates']['coordinates'][0]\n",
        "                    lat = datajson['coordinates']['coordinates'][1]\n",
        "\n",
        "                if lat != 0:\n",
        "                    row = {\n",
        "                        'id': id,\n",
        "                        'username': username,\n",
        "                        'created_at': created_at,\n",
        "                        'lng': lng,\n",
        "                        'lat': lat,\n",
        "                        'text': text\n",
        "                    }\n",
        "                    print(row)\n",
        "                    self.result.append(row)\n",
        "                else:\n",
        "                    pass\n",
        "        else:\n",
        "            df = pd.DataFrame(self.result)\n",
        "            df.to_csv(self.f, index=False)\n",
        "            # download the csv to your local computer\n",
        "            files.download(self.f)\n",
        "            print(\"the csv has been downloaded to your local computer. The program has been completed successfully.\")\n",
        "            return False"
      ]
    },
    {
      "cell_type": "code",
      "execution_count": 29,
      "metadata": {
        "id": "5Xzyo_OiwplG",
        "colab": {
          "base_uri": "https://localhost:8080/",
          "height": 1000
        },
        "outputId": "2bb1ed3d-9b12-4915-e591-fa1a21df57d0"
      },
      "outputs": [
        {
          "output_type": "stream",
          "name": "stdout",
          "text": [
            "{'id': 1533653514546622464, 'username': 'deepakmaini', 'created_at': 'Mon Jun 06 03:34:26 +0000 2022', 'lng': -122.3306025, 'lat': 47.614817, 'text': 'It’s hard to beat any leader who combines great resolve, persistence, mission focus, and clarity about what is and… https://t.co/zQQQyFhGc2'}\n",
            "{'id': 1533653536759611392, 'username': 'rrnunez', 'created_at': 'Mon Jun 06 03:34:31 +0000 2022', 'lng': -122.2800145, 'lat': 47.469552, 'text': '@elonmusk @mlakan @EpochTimes When someone cites this \"source\" there\\'s something strange in their form of thinking.… https://t.co/dAoTcracbU'}\n",
            "{'id': 1533653571241009153, 'username': 'Luke_The_Duke00', 'created_at': 'Mon Jun 06 03:34:39 +0000 2022', 'lng': -122.630908, 'lat': 45.536402, 'text': 'Proud of myself today lmao'}\n",
            "{'id': 1533653572302143488, 'username': 'pascha_scott', 'created_at': 'Mon Jun 06 03:34:40 +0000 2022', 'lng': -121.966606, 'lat': 47.7363335, 'text': 'Happy #WorldEnvironmentDay'}\n",
            "{'id': 1533653583840694272, 'username': 'Smedindy', 'created_at': 'Mon Jun 06 03:34:42 +0000 2022', 'lng': -120.539923, 'lat': 46.9932795, 'text': '@HungerForWisdom @barrelman_mke @TMZ_Sports Plenty of Christians support Pride and march in it. Just rhe fundies are against gays.'}\n",
            "{'id': 1533653619970478081, 'username': 'HeyJanaeB', 'created_at': 'Mon Jun 06 03:34:51 +0000 2022', 'lng': -122.43027699999999, 'lat': 48.753352500000005, 'text': 'i understand inflation, price gouging, etc is lining the pockets of CEOs &amp; the like - but can we add realtors to th… https://t.co/WZfrtwM1fT'}\n",
            "{'id': 1533653634788913152, 'username': 'Cait_onthe_Luce', 'created_at': 'Mon Jun 06 03:34:55 +0000 2022', 'lng': -122.3306025, 'lat': 47.614817, 'text': 'My Sunday crow pal. https://t.co/5aOI7yi544'}\n",
            "{'id': 1533653638744113152, 'username': 'LilyMeade', 'created_at': 'Mon Jun 06 03:34:56 +0000 2022', 'lng': -122.455344, 'lat': 47.242960499999995, 'text': 'I’m not glad this becoming more common problem, but I’m glad more people are speaking about it. My family has been… https://t.co/1IJrZPQhpV'}\n",
            "{'id': 1533653666166472704, 'username': 'IAmInertiaGG', 'created_at': 'Mon Jun 06 03:35:02 +0000 2022', 'lng': -122.035069, 'lat': 47.6081205, 'text': 'Maris Crane is that you?'}\n",
            "{'id': 1533653674056028160, 'username': 'CovidExpert7', 'created_at': 'Mon Jun 06 03:35:04 +0000 2022', 'lng': -120.2877365, 'lat': 47.444677999999996, 'text': \"@CodyWolfeMusic Ask @ChrisYoungMusic how he got discovered? It wasn't just #NashvilleStar\"}\n",
            "{'id': 1533653674295033856, 'username': 'KevinKeay8', 'created_at': 'Mon Jun 06 03:35:04 +0000 2022', 'lng': -122.630908, 'lat': 45.536402, 'text': \"@AlisaPikaPika You're very cute Alyssa\"}\n",
            "{'id': 1533653712517836801, 'username': 'Smedindy', 'created_at': 'Mon Jun 06 03:35:13 +0000 2022', 'lng': -120.539923, 'lat': 46.9932795, 'text': '@gleyberszn25 @barrelman_mke @TMZ_Sports Plenty of Christians support Pride'}\n",
            "{'id': 1533653774702563330, 'username': 'dennispupello', 'created_at': 'Mon Jun 06 03:35:28 +0000 2022', 'lng': -122.3306025, 'lat': 47.614817, 'text': '.@jawgemo and @Boostio highest rated team duo. 👊💪 #VCTNA #LIVEEVIL'}\n",
            "{'id': 1533653776430559232, 'username': 'bramandacon13', 'created_at': 'Mon Jun 06 03:35:28 +0000 2022', 'lng': -122.70853550000001, 'lat': 45.713327, 'text': 'Caught up on Obi Wan. No spoilers but daaaamn.'}\n",
            "{'id': 1533653830956482560, 'username': 'tia_milloy2024', 'created_at': 'Mon Jun 06 03:35:41 +0000 2022', 'lng': -122.061771, 'lat': 47.67881250000001, 'text': 'Zoom into June schedule! @UGACoachTony @KarenWeekly @CoachTarr@_TimWalton @LLefty18@jtgasso @UKCoachLawson… https://t.co/YhvaqGrSht'}\n",
            "{'id': 1533653859741990914, 'username': 'DebbieHere2', 'created_at': 'Mon Jun 06 03:35:48 +0000 2022', 'lng': -117.1542695, 'lat': 46.730822, 'text': 'We all \"suffer\" a bit for our art. My car is stuck in the mud somewhere in Whitman county WA - a farmer is going to… https://t.co/8PfaJcOMvI'}\n",
            "{'id': 1533653894516965376, 'username': 'idaho4me', 'created_at': 'Mon Jun 06 03:35:57 +0000 2022', 'lng': -114.14326249999999, 'lat': 45.4945515, 'text': '@Crib_Boof WOW!! Didn’t see this!!!'}\n",
            "{'id': 1533653925563203584, 'username': 'xtomlongx', 'created_at': 'Mon Jun 06 03:36:04 +0000 2022', 'lng': -122.455344, 'lat': 47.242960499999995, 'text': 'Love the fact that @Teeelmusic is playing with clips of Back to the Future on the projector right now.'}\n",
            "{'id': 1533653943674253312, 'username': 'terryhollimon', 'created_at': 'Mon Jun 06 03:36:08 +0000 2022', 'lng': -122.1106155, 'lat': 47.850556499999996, 'text': '@kimholcomb One of my favs!!! https://t.co/SnTKDNM32e'}\n",
            "{'id': 1533653991028011009, 'username': 'ballboyblog2021', 'created_at': 'Mon Jun 06 03:36:20 +0000 2022', 'lng': -119.132102, 'lat': 46.245556, 'text': 'Oppo taco for Gabe Matthews, extends the #RoosterTails lead to 3-0 over the tops here bottom 8, 0 outs. Insurance run!'}\n",
            "{'id': 1533653993804574720, 'username': 'Smedindy', 'created_at': 'Mon Jun 06 03:36:20 +0000 2022', 'lng': -120.539923, 'lat': 46.9932795, 'text': '@TheEddieHaskell @barrelman_mke @TMZ_Sports Plenty of Christians support Pride. Try again.'}\n",
            "{'id': 1533654004789497856, 'username': 'JoeDownsAZ', 'created_at': 'Mon Jun 06 03:36:23 +0000 2022', 'lng': -122.5889745, 'lat': 45.630589, 'text': 'For as much irrational awfulness @Garrett_Archer has gotten from the internet, it would be so easy to become too cy… https://t.co/wKXitiXtGg'}\n",
            "{'id': 1533654074666627073, 'username': 'bold_saguaro', 'created_at': 'Mon Jun 06 03:36:39 +0000 2022', 'lng': -122.194398, 'lat': 47.481598, 'text': 'This.'}\n",
            "{'id': 1533654091330486272, 'username': 'shaun_haney', 'created_at': 'Mon Jun 06 03:36:43 +0000 2022', 'lng': -122.296281, 'lat': 47.119285500000004, 'text': '@ObamaEraCons This is my life to a tee.'}\n",
            "{'id': 1533654135739777026, 'username': 'Smedindy', 'created_at': 'Mon Jun 06 03:36:54 +0000 2022', 'lng': -120.539923, 'lat': 46.9932795, 'text': '@cullenjordan17 @H4Z4RD05 @barrelman_mke @TMZ_Sports Thats 100% wrong.'}\n",
            "{'id': 1533654136192761856, 'username': 'MarkODonohue_', 'created_at': 'Mon Jun 06 03:36:54 +0000 2022', 'lng': -123.75477649999999, 'lat': 48.621596499999995, 'text': 'Well done S1 Rampone! #Boatswain #CAF #PlatinumJubilee'}\n",
            "{'id': 1533654160251289600, 'username': 'GTracyTV', 'created_at': 'Mon Jun 06 03:37:00 +0000 2022', 'lng': -122.3306025, 'lat': 47.614817, 'text': 'Rewatching Stranger Things and S3 finale has the best opening of the series I’m convinced.'}\n",
            "{'id': 1533654173593399296, 'username': 'Bobbc194719562', 'created_at': 'Mon Jun 06 03:37:03 +0000 2022', 'lng': -120.58340150000001, 'lat': 44.1454365, 'text': '@K52428407 @SheriffClarke Come take mine!! Dare ya! Double dare ya!'}\n",
            "{'id': 1533654193352810496, 'username': 'alexquitplayin', 'created_at': 'Mon Jun 06 03:37:08 +0000 2022', 'lng': -122.630908, 'lat': 45.536402, 'text': '@totallytrentt @latttayy I always knew. My sweet sweet blob fish'}\n",
            "{'id': 1533654198549553152, 'username': 'DonaldS95157957', 'created_at': 'Mon Jun 06 03:37:09 +0000 2022', 'lng': -120.58340150000001, 'lat': 44.1454365, 'text': '@Anname510 Me either'}\n",
            "{'id': 1533654247492816901, 'username': 'AustinParadise7', 'created_at': 'Mon Jun 06 03:37:21 +0000 2022', 'lng': -122.630908, 'lat': 45.536402, 'text': '@acabstudios Push it over! 🤣🤣'}\n",
            "{'id': 1533654258058334208, 'username': 'erinjonesin2016', 'created_at': 'Mon Jun 06 03:37:23 +0000 2022', 'lng': -120.52975950000001, 'lat': 46.5942225, 'text': 'To all those who would quote only one line of the “I have a dream” speech as representing the essence of Dr. King,… https://t.co/dNFlQ15loK'}\n",
            "{'id': 1533654260184850432, 'username': 'GMOsbad', 'created_at': 'Mon Jun 06 03:37:24 +0000 2022', 'lng': -120.882482, 'lat': 47.273022, 'text': 'Watching ads of pharmaceuticals.  Sounds like side effects are worse then disease'}\n",
            "{'id': 1533654267592028160, 'username': 'resing', 'created_at': 'Mon Jun 06 03:37:25 +0000 2022', 'lng': -122.20190500000001, 'lat': 47.680319, 'text': '@JoelFMRodrigues @WorTony @LeonArmston Sounds like a great thing to learn during the pandemic'}\n",
            "{'id': 1533654269026443264, 'username': 'Smedindy', 'created_at': 'Mon Jun 06 03:37:26 +0000 2022', 'lng': -120.539923, 'lat': 46.9932795, 'text': '@cullenjordan17 @H4Z4RD05 @barrelman_mke @TMZ_Sports Thats 100% wrong. So wrong. So very wrong.'}\n",
            "{'id': 1533654283488333825, 'username': 'clift_m', 'created_at': 'Mon Jun 06 03:37:29 +0000 2022', 'lng': -122.20190500000001, 'lat': 47.680319, 'text': '@PaulSchlienz The problematic ice is not in the water. This is why they talk if shelves.'}\n",
            "{'id': 1533654297233088512, 'username': 'MikeSibertRadio', 'created_at': 'Mon Jun 06 03:37:33 +0000 2022', 'lng': -122.29648850000001, 'lat': 47.442583, 'text': '@F13thFranchise I have a very real soft spot for A New Beginning.The idea of a Jason copycat is still very intriguing.'}\n",
            "{'id': 1533654298579464193, 'username': 'Nolanium', 'created_at': 'Mon Jun 06 03:37:33 +0000 2022', 'lng': -122.29648850000001, 'lat': 47.442583, 'text': 'It’s been years since I’ve seen someone as genuinely over as @CodyRhodes and after tonight, that adulation was well… https://t.co/a10dY3RgcS'}\n",
            "{'id': 1533654300425003008, 'username': 'jimshelly2', 'created_at': 'Mon Jun 06 03:37:33 +0000 2022', 'lng': -122.630908, 'lat': 45.536402, 'text': '@Peter_Clarke87 Sticky Fingers Clarke'}\n",
            "{'id': 1533654333522251783, 'username': 'GrandmaD3ath', 'created_at': 'Mon Jun 06 03:37:41 +0000 2022', 'lng': -122.630908, 'lat': 45.536402, 'text': '@willcblogs I just started season 2 of the original. I love that show.'}\n",
            "{'id': 1533654335954989056, 'username': 'Hawkfather1', 'created_at': 'Mon Jun 06 03:37:42 +0000 2022', 'lng': -122.16452749999999, 'lat': 48.088757, 'text': \"You bet I would. I'd turn it into the trunk of my car and figure out where to stash it.\"}\n",
            "{'id': 1533654348525211648, 'username': 'DDebKol', 'created_at': 'Mon Jun 06 03:37:45 +0000 2022', 'lng': -122.04254449999999, 'lat': 47.542814, 'text': '@PTI_News This is a big lie and great hypocritic statement from them.'}\n",
            "{'id': 1533654359820488704, 'username': 'SDubduck', 'created_at': 'Mon Jun 06 03:37:47 +0000 2022', 'lng': -122.630908, 'lat': 45.536402, 'text': '@Pacduneslooper @FlorenceLinks @swaggolfco Was it good ?'}\n",
            "{'id': 1533654400261951488, 'username': 'kindredbrave', 'created_at': 'Mon Jun 06 03:37:57 +0000 2022', 'lng': -122.630908, 'lat': 45.536402, 'text': '@PupEvans I kinda want to know now…'}\n",
            "{'id': 1533654413499170816, 'username': 'shaun_haney', 'created_at': 'Mon Jun 06 03:38:00 +0000 2022', 'lng': -122.296281, 'lat': 47.119285500000004, 'text': \"@norootcause Why doesn't it involve cheese?\"}\n",
            "{'id': 1533654414421917698, 'username': 'JonHaroldMeyer1', 'created_at': 'Mon Jun 06 03:38:00 +0000 2022', 'lng': -117.434547, 'lat': 47.667438, 'text': '@MackBigmacsama @cartoonnetwork @CNGames @CNHotelOfficial @GianoliIi @alec_behan @Edmonds4Rayqwan It just is that’s why'}\n",
            "{'id': 1533654422143676417, 'username': 'RicardopintoMr3', 'created_at': 'Mon Jun 06 03:38:02 +0000 2022', 'lng': -122.334461, 'lat': 47.307568, 'text': '@TheFungi669 @ChaseCenter @warriors @ChaseCenter and @warriorsDubs won and I drank a Tequila. If they had lost,… https://t.co/kI5thP30kX'}\n",
            "{'id': 1533654459984715776, 'username': 'idaho4me', 'created_at': 'Mon Jun 06 03:38:11 +0000 2022', 'lng': -114.14326249999999, 'lat': 45.4945515, 'text': '@Crib_Boof Whole thing was awful….. I live just shortly south of where that took place back then.'}\n",
            "{'id': 1533654491634905089, 'username': 'bikebremerton', 'created_at': 'Mon Jun 06 03:38:19 +0000 2022', 'lng': -122.6692365, 'lat': 47.5618015, 'text': '12 months ago, Perry Mall was as dismal and run down as any strip mall in America. Sounds like owners have big pl… https://t.co/ZfCOjeKVxJ'}\n",
            "{'id': 1533654530805489664, 'username': 'DebbieHere2', 'created_at': 'Mon Jun 06 03:38:28 +0000 2022', 'lng': -117.1542695, 'lat': 46.730822, 'text': '@DragonsEyeImage @dusty_haskins @FreyFotos @Sure1thing Thanks Paulie 😉💛 https://t.co/JMqDIOMIwl'}\n",
            "{'id': 1533654553022697472, 'username': 'JonHaroldMeyer1', 'created_at': 'Mon Jun 06 03:38:34 +0000 2022', 'lng': -117.434547, 'lat': 47.667438, 'text': '@Edmonds4Rayqwan @cartoonnetwork @CNGames @CNHotelOfficial @GianoliIi @alec_behan Yeah'}\n",
            "{'id': 1533654559783997441, 'username': 'MaelForceOne', 'created_at': 'Mon Jun 06 03:38:35 +0000 2022', 'lng': -122.3306025, 'lat': 47.614817, 'text': \"@Inez666_ Totally understandable! It's stressful to be the first one every time\"}\n",
            "{'id': 1533654559897243648, 'username': 'DogwoodBear', 'created_at': 'Mon Jun 06 03:38:35 +0000 2022', 'lng': -120.58340150000001, 'lat': 44.1454365, 'text': '@OccupyDemocrats Oh please. Not a soul on earth believes this.'}\n",
            "{'id': 1533654561964953600, 'username': 'CantStandMAGAts', 'created_at': 'Mon Jun 06 03:38:36 +0000 2022', 'lng': -122.1660035, 'lat': 47.180856, 'text': \"James Balwin got it right. Check out Cshamad Reed's video! #TikTok https://t.co/njSL3mlEER\"}\n",
            "{'id': 1533654599713714176, 'username': 'JonHaroldMeyer1', 'created_at': 'Mon Jun 06 03:38:45 +0000 2022', 'lng': -117.434547, 'lat': 47.667438, 'text': '@ScarletGhostX Okay'}\n",
            "{'id': 1533654601366286336, 'username': 'joykat', 'created_at': 'Mon Jun 06 03:38:45 +0000 2022', 'lng': -122.630908, 'lat': 45.536402, 'text': 'I just scored 38,022 on The Hobbit #pinball machine by @JJPinball 01745-1 via @hobbitpinball'}\n",
            "{'id': 1533654688125489152, 'username': 'Hawkfather1', 'created_at': 'Mon Jun 06 03:39:06 +0000 2022', 'lng': -122.16452749999999, 'lat': 48.088757, 'text': \"Ya can't make this kinda stupid up.\"}\n",
            "{'id': 1533654715010953216, 'username': 'Leakri', 'created_at': 'Mon Jun 06 03:39:12 +0000 2022', 'lng': -120.58340150000001, 'lat': 44.1454365, 'text': '@tommy_edwin1212 @wineandbirdseed @atinacarol @InvestigatorCps Not nearly enough or you would behave better😉'}\n",
            "{'id': 1533654790437163008, 'username': 'chandlurrrr', 'created_at': 'Mon Jun 06 03:39:30 +0000 2022', 'lng': -122.923516, 'lat': 47.064528, 'text': 'Just worked my ass off for 10 hours in a hot ass kitchen and I’m making MAYBE half as much as they are.'}\n",
            "{'id': 1533654811941294080, 'username': 'SKCFDispatches', 'created_at': 'Mon Jun 06 03:39:35 +0000 2022', 'lng': -122.25157157, 'lat': 47.264856, 'text': '🚑DISPATCH: Medical Aid - Basic Life Support @ 124 MT VISTA PL SW, PACIFIC.Responding Dept: Valley Regional FAUn… https://t.co/Zj1h9Uvn27'}\n",
            "{'id': 1533654839720177664, 'username': 'ursonate', 'created_at': 'Mon Jun 06 03:39:42 +0000 2022', 'lng': -122.3306025, 'lat': 47.614817, 'text': 'Finally paused long enough to take a photo of my version of larb gai (served over broccoli). This is by no means au… https://t.co/JNgwQF8sHw'}\n",
            "{'id': 1533654883781382144, 'username': 'loganb', 'created_at': 'Mon Jun 06 03:39:52 +0000 2022', 'lng': -122.3306025, 'lat': 47.614817, 'text': '@DustinDK What’s your plan for disposing of the ruble? I have a small-ish amount of broken concrete and am trying t… https://t.co/2HE2Gjg3m5'}\n",
            "{'id': 1533654897018929152, 'username': 'KevinKeay8', 'created_at': 'Mon Jun 06 03:39:56 +0000 2022', 'lng': -122.630908, 'lat': 45.536402, 'text': \"@AvaBamby You're very cute sweetheart if you are in Portland Oregon I'd love to see you or if nearby\"}\n",
            "{'id': 1533654920162709504, 'username': 'pdxpolicelog', 'created_at': 'Mon Jun 06 03:40:01 +0000 2022', 'lng': -122.591954, 'lat': 45.504881, 'text': 'THEFT - COLD at 2400 SE 70TH AVE, PORT [Portland Police #PP22000150316] 20:28 #pdx911'}\n",
            "{'id': 1533654921072939009, 'username': 'pdxpolicelog', 'created_at': 'Mon Jun 06 03:40:01 +0000 2022', 'lng': -122.582848, 'lat': 45.515752, 'text': 'VEHICLE STOLEN - COLD at 7800 SE YAMHILL ST, PORT [Portland Police #PP22000150188] 19:19 #pdx911'}\n",
            "{'id': 1533654934226292742, 'username': 'patroocha', 'created_at': 'Mon Jun 06 03:40:04 +0000 2022', 'lng': -122.2180755, 'lat': 47.3923115, 'text': 'People who push everyone away bc they suddenly got a significant other are weird asf'}\n",
            "{'id': 1533654973459812353, 'username': 'DebbieHere2', 'created_at': 'Mon Jun 06 03:40:14 +0000 2022', 'lng': -117.1542695, 'lat': 46.730822, 'text': '@hulsopp3 Thanks Shawn! All is well ((whew)) 💛'}\n",
            "{'id': 1533655031936782336, 'username': 'GMOsbad', 'created_at': 'Mon Jun 06 03:40:28 +0000 2022', 'lng': -120.882482, 'lat': 47.273022, 'text': 'Fantastic fungi shall inherit the Earth'}\n",
            "{'id': 1533655121640361984, 'username': 'soldni', 'created_at': 'Mon Jun 06 03:40:49 +0000 2022', 'lng': -122.3306025, 'lat': 47.614817, 'text': '1,200 miles later, we made it!!! https://t.co/QhHu7hOP6Z'}\n",
            "{'id': 1533655143165485056, 'username': 'ballboyblog2021', 'created_at': 'Mon Jun 06 03:40:54 +0000 2022', 'lng': -119.132102, 'lat': 46.245556, 'text': '2Ks and lineout ends the 8th. #Roostertails lead 3-0 going too 9.'}\n",
            "{'id': 1533655164124418048, 'username': 'writer_noir', 'created_at': 'Mon Jun 06 03:40:59 +0000 2022', 'lng': -122.6373085, 'lat': 48.289541, 'text': '@AubryAndrews Wow! The STUPID is really strong in this one!'}\n",
            "{'id': 1533655169891676161, 'username': 'LilyMeade', 'created_at': 'Mon Jun 06 03:41:01 +0000 2022', 'lng': -122.455344, 'lat': 47.242960499999995, 'text': 'Boosting!'}\n",
            "{'id': 1533655178171359233, 'username': 'RicardopintoMr3', 'created_at': 'Mon Jun 06 03:41:03 +0000 2022', 'lng': -122.334461, 'lat': 47.307568, 'text': '@LEGOATBURNOGREAL LEGOAT FAN BEST PLAYER OAT| SADLY JORGAMBLE SUCKS NOT TOP 10|depressed lakers fan| @lakers(I l… https://t.co/oDBS7joCU1'}\n",
            "{'id': 1533655181350428677, 'username': 'millerdna', 'created_at': 'Mon Jun 06 03:41:03 +0000 2022', 'lng': -122.6557945, 'lat': 47.4939445, 'text': \"Graduation this week, then she's off to @eckerdcollege!  Kick ass, kid.  Kick ass. https://t.co/UvQLwYuZgG\"}\n",
            "{'id': 1533655192792510464, 'username': 'ursonate', 'created_at': 'Mon Jun 06 03:41:06 +0000 2022', 'lng': -122.3306025, 'lat': 47.614817, 'text': 'And what was meant to be an overeasy egg. I need to work on poaching. That would be ideal'}\n",
            "{'id': 1533655214640599040, 'username': 'DebbieHere2', 'created_at': 'Mon Jun 06 03:41:11 +0000 2022', 'lng': -117.1542695, 'lat': 46.730822, 'text': '@Mav_images @roscooknature Awwww - this is stunning &amp; SO cute 💛'}\n",
            "{'id': 1533655269498007552, 'username': 'bold_saguaro', 'created_at': 'Mon Jun 06 03:41:24 +0000 2022', 'lng': -122.194398, 'lat': 47.481598, 'text': '@ProducerWes @ZowCardBreaks I have so much stupid shit. Worked in sports for a while. I keep giving it away... and then there is more.'}\n",
            "{'id': 1533655327370928130, 'username': 'Hawkfather1', 'created_at': 'Mon Jun 06 03:41:38 +0000 2022', 'lng': -122.16452749999999, 'lat': 48.088757, 'text': 'Its all about a medical condition known as \"completus bullshititis\".'}\n",
            "{'id': 1533655353660805121, 'username': 'MarkWarns', 'created_at': 'Mon Jun 06 03:41:44 +0000 2022', 'lng': -122.66475449999999, 'lat': 47.747640000000004, 'text': 'Also, despite the war damage, Eastern Ukraine is rich in resources, easy pickings for Russian, post-Yeltsin, post-K… https://t.co/EhF4VC1sty'}\n",
            "{'id': 1533655357322498049, 'username': 'thenephetsk', 'created_at': 'Mon Jun 06 03:41:45 +0000 2022', 'lng': -122.3306025, 'lat': 47.614817, 'text': 'Nice night in the garden https://t.co/9TvnpwaEqR'}\n",
            "{'id': 1533655363374895105, 'username': 'thenephetsk', 'created_at': 'Mon Jun 06 03:41:47 +0000 2022', 'lng': -122.3306025, 'lat': 47.614817, 'text': 'Stuff be growing https://t.co/fhGioU3Vxg'}\n",
            "{'id': 1533655382400172032, 'username': 'DDebKol', 'created_at': 'Mon Jun 06 03:41:51 +0000 2022', 'lng': -122.04254449999999, 'lat': 47.542814, 'text': '@PTI_News Why not in jail ?'}\n",
            "{'id': 1533655404244131841, 'username': 'KevinKeay8', 'created_at': 'Mon Jun 06 03:41:56 +0000 2022', 'lng': -122.630908, 'lat': 45.536402, 'text': \"@Mariaaurr You're very cute sweetheart if you're in Portland I'd like to see you\"}\n",
            "{'id': 1533655410686586880, 'username': 'Smedindy', 'created_at': 'Mon Jun 06 03:41:58 +0000 2022', 'lng': -120.539923, 'lat': 46.9932795, 'text': '@AguaType @sadfly46 @JKING76868961 @polevaultpower Trans women are women.'}\n",
            "{'id': 1533655412842516481, 'username': 'SKCFDispatches', 'created_at': 'Mon Jun 06 03:41:59 +0000 2022', 'lng': -122.3393103, 'lat': 47.313494, 'text': '🚑 DISPATCH: Medical Aid - Service @ KLOSHE ILLAHEE MOBILE HOME PARK #38, 2500 S 370TH ST #38, FEDERAL WAY.Respon… https://t.co/6YoHLpywha'}\n",
            "{'id': 1533655423852498944, 'username': 'pdxpolicelog', 'created_at': 'Mon Jun 06 03:42:01 +0000 2022', 'lng': -122.57636, 'lat': 45.496179, 'text': 'SUSPICIOUS SUBJ, VEH, OR CIRCUMSTANCE at SE 84TH AVE / SE LAFAYETTE ST, PORT [Portland Police #PP22000150332] 19:20 #pdx911'}\n",
            "{'id': 1533655424754257920, 'username': 'pdxpolicelog', 'created_at': 'Mon Jun 06 03:42:01 +0000 2022', 'lng': -122.673443, 'lat': 45.474894, 'text': 'UNWANTED PERSON at 500 S FLORIDA ST, PORT [Portland Police #PP22000150259] 17:53 #pdx911'}\n",
            "{'id': 1533655430408220673, 'username': 'bitvix', 'created_at': 'Mon Jun 06 03:42:03 +0000 2022', 'lng': -120.58340150000001, 'lat': 44.1454365, 'text': '@dreamwastaken i’m alright :)'}\n",
            "{'id': 1533655446019485696, 'username': 'ALanoII', 'created_at': 'Mon Jun 06 03:42:06 +0000 2022', 'lng': -122.5889745, 'lat': 45.630589, 'text': '@OnAirMafia Niether can pick their nose..🎂🤧🤧🤧🤧'}\n",
            "{'id': 1533655466831585280, 'username': 'samnugivyh', 'created_at': 'Mon Jun 06 03:42:11 +0000 2022', 'lng': -122.29648850000001, 'lat': 47.442583, 'text': '@hannahrayeee literally this URKS ME'}\n",
            "{'id': 1533655467393593344, 'username': 'ChrisThoHa', 'created_at': 'Mon Jun 06 03:42:12 +0000 2022', 'lng': -122.3306025, 'lat': 47.614817, 'text': 'Seattle screensaver https://t.co/xGBoupufSp'}\n",
            "{'id': 1533655485026643969, 'username': 'annafoxylove', 'created_at': 'Mon Jun 06 03:42:16 +0000 2022', 'lng': -122.583, 'lat': 47.3275, 'text': 'Just posted a photo @ Gig Harbor, Washington https://t.co/tSpBNqqeTs'}\n",
            "{'id': 1533655489069711360, 'username': 'dbm422', 'created_at': 'Mon Jun 06 03:42:17 +0000 2022', 'lng': -122.5899815, 'lat': 47.534422500000005, 'text': '@ColbertSteven2 @galleg000s Dude you better drown that shit in ketchup'}\n",
            "{'id': 1533655497273815041, 'username': 'hpkingiii', 'created_at': 'Mon Jun 06 03:42:19 +0000 2022', 'lng': -122.3306025, 'lat': 47.614817, 'text': '@cinthe1st @Complex 100% As tragic as it is, it should put to rest the good guys with guns nonsense.'}\n",
            "{'id': 1533655560557432833, 'username': 'patroocha', 'created_at': 'Mon Jun 06 03:42:34 +0000 2022', 'lng': -122.2180755, 'lat': 47.3923115, 'text': 'Mfs can talk on the phone with everyone but u so fucking weird tbh'}\n",
            "{'id': 1533655565691342848, 'username': 'SpoSliders1308', 'created_at': 'Mon Jun 06 03:42:35 +0000 2022', 'lng': -117.434547, 'lat': 47.667438, 'text': '@ClayTravis And mask'}\n",
            "{'id': 1533655565682913282, 'username': 'clift_m', 'created_at': 'Mon Jun 06 03:42:35 +0000 2022', 'lng': -122.20190500000001, 'lat': 47.680319, 'text': '@HoffmanLabs I think it was a mistake to have the instructions fail on interlocks and to have to retry. The lib$ la… https://t.co/ZqXMezhM3h'}\n",
            "{'id': 1533655601892339713, 'username': 'McNameeJason', 'created_at': 'Mon Jun 06 03:42:44 +0000 2022', 'lng': -123.44179199999999, 'lat': 48.6559415, 'text': '@OrcaCedarbough We agree!'}\n",
            "{'id': 1533655615838400512, 'username': 'DebbieHere2', 'created_at': 'Mon Jun 06 03:42:47 +0000 2022', 'lng': -117.1542695, 'lat': 46.730822, 'text': 'How cute is this? (Not to mention being a spectacular pic! 🎯) Beautiful @Mav_images #photographer ⤵️'}\n",
            "{'id': 1533655622993862657, 'username': 'NateElliott', 'created_at': 'Mon Jun 06 03:42:49 +0000 2022', 'lng': -117.206835, 'lat': 47.6355305, 'text': '@gabegundy This is a shark attack'}\n",
            "{'id': 1533655628127739906, 'username': 'ballboyblog2021', 'created_at': 'Mon Jun 06 03:42:50 +0000 2022', 'lng': -119.132102, 'lat': 46.245556, 'text': 'RHRP Donovan on to close us out here!'}\n",
            "{'id': 1533655628274487296, 'username': 'thiccmember', 'created_at': 'Mon Jun 06 03:42:50 +0000 2022', 'lng': -122.3306025, 'lat': 47.614817, 'text': '@MrDexParker Nice! This is a good reminder for me to be consistent with the sex kungfu practice.'}\n",
            "{'id': 1533655629448982528, 'username': 'BusinessButcher', 'created_at': 'Mon Jun 06 03:42:50 +0000 2022', 'lng': -122.20190500000001, 'lat': 47.680319, 'text': 'PGA TOUR. Where history is made.'}\n",
            "{'id': 1533655645559222277, 'username': 'seattlekim', 'created_at': 'Mon Jun 06 03:42:54 +0000 2022', 'lng': -122.3306025, 'lat': 47.614817, 'text': 'Watching Watergate-Blueprint for a Scandal on CNN tonight. Effective to have John Dean as the narrator. Still learn… https://t.co/OuUBqGODSt'}\n",
            "{'id': 1533655669978431488, 'username': 'hpkingiii', 'created_at': 'Mon Jun 06 03:43:00 +0000 2022', 'lng': -122.3306025, 'lat': 47.614817, 'text': '@cinthe1st @Complex Makes sense to me.'}\n",
            "{'id': 1533655684037742592, 'username': 'mudflapgirls', 'created_at': 'Mon Jun 06 03:43:03 +0000 2022', 'lng': -122.379516, 'lat': 47.589437, 'text': 'Out of these four photos, which one looks the least like a #com210 assignment and most like commercial #photography… https://t.co/i21RpjDZhc'}\n",
            "{'id': 1533655708260085760, 'username': 'annafoxylove', 'created_at': 'Mon Jun 06 03:43:09 +0000 2022', 'lng': -122.583, 'lat': 47.3275, 'text': 'Just posted a photo @ Gig Harbor, Washington https://t.co/NjIb92j307'}\n",
            "{'id': 1533655718175252480, 'username': 'mda_hez', 'created_at': 'Mon Jun 06 03:43:11 +0000 2022', 'lng': -122.30742699999999, 'lat': 47.792534, 'text': \"Gave up 88pts in today's game, full of athletes.#Warriors #NBAFinals #DubNation\"}\n",
            "{'id': 1533655757693911040, 'username': 'norman_oro', 'created_at': 'Mon Jun 06 03:43:21 +0000 2022', 'lng': -122.3306025, 'lat': 47.614817, 'text': \"In fact, I try to minimize tweeting these days about public policy issues to avoid giving the impression I'm seekin… https://t.co/pLKvz2CNRc\"}\n",
            "{'id': 1533655760898359296, 'username': 'Smedindy', 'created_at': 'Mon Jun 06 03:43:22 +0000 2022', 'lng': -120.539923, 'lat': 46.9932795, 'text': '@Maddie_Crisman Holy.....'}\n",
            "{'id': 1533655805630615552, 'username': 'ChrisThoHa', 'created_at': 'Mon Jun 06 03:43:32 +0000 2022', 'lng': -122.3306025, 'lat': 47.614817, 'text': 'Big stepper https://t.co/yUvsWWVHQY'}\n",
            "{'id': 1533655816326086656, 'username': 'bold_saguaro', 'created_at': 'Mon Jun 06 03:43:35 +0000 2022', 'lng': -122.194398, 'lat': 47.481598, 'text': \"@EdBlackEsq @dstiddypop43 Haven't you been watching?.?.?.? https://t.co/cmFROcTMlH\"}\n",
            "{'id': 1533655836270002177, 'username': 'KCGOP', 'created_at': 'Mon Jun 06 03:43:39 +0000 2022', 'lng': -120.3124165, 'lat': 47.42686628, 'text': 'Coming off a great weekend at the @wagop WA State Republican Action Conference - your new KCGOP team is charged up… https://t.co/TLg56bJhit'}\n",
            "{'id': 1533655894247911424, 'username': 'JayTraxus', 'created_at': 'Mon Jun 06 03:43:53 +0000 2022', 'lng': -120.58340150000001, 'lat': 44.1454365, 'text': \"It's what the Klingons did 🗡️\"}\n",
            "{'id': 1533655904435904513, 'username': 'xtomlongx', 'created_at': 'Mon Jun 06 03:43:56 +0000 2022', 'lng': -122.455344, 'lat': 47.242960499999995, 'text': '@beigemaariee I’m sayin! Come through fam.'}\n",
            "{'id': 1533655945246433280, 'username': '_WhizKid_', 'created_at': 'Mon Jun 06 03:44:05 +0000 2022', 'lng': -122.24776, 'lat': 47.265761999999995, 'text': 'I think Kenya will never see a stubborn Turkana like this one!'}\n"
          ]
        },
        {
          "output_type": "display_data",
          "data": {
            "text/plain": [
              "<IPython.core.display.Javascript object>"
            ],
            "application/javascript": [
              "\n",
              "    async function download(id, filename, size) {\n",
              "      if (!google.colab.kernel.accessAllowed) {\n",
              "        return;\n",
              "      }\n",
              "      const div = document.createElement('div');\n",
              "      const label = document.createElement('label');\n",
              "      label.textContent = `Downloading \"${filename}\": `;\n",
              "      div.appendChild(label);\n",
              "      const progress = document.createElement('progress');\n",
              "      progress.max = size;\n",
              "      div.appendChild(progress);\n",
              "      document.body.appendChild(div);\n",
              "\n",
              "      const buffers = [];\n",
              "      let downloaded = 0;\n",
              "\n",
              "      const channel = await google.colab.kernel.comms.open(id);\n",
              "      // Send a message to notify the kernel that we're ready.\n",
              "      channel.send({})\n",
              "\n",
              "      for await (const message of channel.messages) {\n",
              "        // Send a message to notify the kernel that we're ready.\n",
              "        channel.send({})\n",
              "        if (message.buffers) {\n",
              "          for (const buffer of message.buffers) {\n",
              "            buffers.push(buffer);\n",
              "            downloaded += buffer.byteLength;\n",
              "            progress.value = downloaded;\n",
              "          }\n",
              "        }\n",
              "      }\n",
              "      const blob = new Blob(buffers, {type: 'application/binary'});\n",
              "      const a = document.createElement('a');\n",
              "      a.href = window.URL.createObjectURL(blob);\n",
              "      a.download = filename;\n",
              "      div.appendChild(a);\n",
              "      a.click();\n",
              "      div.remove();\n",
              "    }\n",
              "  "
            ]
          },
          "metadata": {}
        },
        {
          "output_type": "display_data",
          "data": {
            "text/plain": [
              "<IPython.core.display.Javascript object>"
            ],
            "application/javascript": [
              "download(\"download_4fb39427-10f3-4503-b8c4-28312f11b1ea\", \"washingtontweets.csv\", 19712)"
            ]
          },
          "metadata": {}
        },
        {
          "output_type": "stream",
          "name": "stdout",
          "text": [
            "the csv has been downloaded to your local computer. The program has been completed successfully.\n"
          ]
        }
      ],
      "source": [
        "if __name__ == \"__main__\":\n",
        "    # These are provided to you through the Twitter API after you create a account\n",
        "    # register a Twitter App to get the keys and access tokens.\n",
        "    output_file = '/gdrive/My Drive/washingtontweets.csv'\n",
        "\n",
        "    # Apply for your own Twitter API keys at https://developer.twitter.com/en/apply-for-access\n",
        "    consumer_key = \"rXDGQzJFskLrRRKNrXUG6xEB7\"\n",
        "    consumer_secret = \"CuCPM2RJGieynRAgguBbcpRMdINmsZBVXyAbvTpZEJ8X0PtQQ8\"\n",
        "    access_token = \"1519042779027951616-p51C7lOvlRtxsL3DB6LVjSspJlzDFQ\"\n",
        "    access_token_secret = \"mS7xk9PY9ltWxHCFEcq6sgNGIdlPlhWqWTMgUXRR4pnng\"\n",
        "\n",
        "    myauth = tweepy.OAuthHandler(consumer_key, consumer_secret)\n",
        "    myauth.set_access_token(access_token, access_token_secret)\n",
        "\n",
        "    # LOCATIONS are the longitude, latitude coordinate corners for a box that restricts the\n",
        "    # geographic area from which you will stream tweets. The first two define the southwest\n",
        "    # corner of the box and the second two define the northeast corner of the box.\n",
        "    LOCATIONS = [-123.951187, 45.590307, -117.032391, 48.999172]  # Washington\n",
        "\n",
        "    stream_listener = StreamListener(time_limit=600, file=output_file)\n",
        "    stream = tweepy.Stream(auth=myauth, listener=stream_listener)\n",
        "    stream.filter(locations=LOCATIONS, languages=['en'], encoding=\"utf-8\")"
      ]
    }
  ],
  "metadata": {
    "colab": {
      "collapsed_sections": [],
      "name": "geosearch.ipynb",
      "provenance": [],
      "include_colab_link": true
    },
    "kernelspec": {
      "display_name": "Python 3",
      "language": "python",
      "name": "python3"
    },
    "language_info": {
      "codemirror_mode": {
        "name": "ipython",
        "version": 3
      },
      "file_extension": ".py",
      "mimetype": "text/x-python",
      "name": "python",
      "nbconvert_exporter": "python",
      "pygments_lexer": "ipython3",
      "version": "3.7.4"
    }
  },
  "nbformat": 4,
  "nbformat_minor": 0
}